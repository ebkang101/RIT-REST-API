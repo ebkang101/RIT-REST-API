{
 "cells": [
  {
   "cell_type": "markdown",
   "metadata": {},
   "source": [
    "# RIT - REST API Examples using Python\n",
    "## Jupyter Notebook Edition"
   ]
  },
  {
   "cell_type": "markdown",
   "metadata": {},
   "source": [
    "## Introduction"
   ]
  },
  {
   "cell_type": "markdown",
   "metadata": {},
   "source": [
    "This tutorial is designed for those who are interested in using an Application Programming Interface (API) to create their own Decision Support templates or algorithms for RIT Decision Cases. Esperically, for this tutorial, students are not expected to have any prior knowledge or experience in programming, and this tutorial provides examples using RIT API commands that students can easily follow.\n",
    "\n",
    "After following this tutorial, students may try to follow the RIT API User Guide to complete a python algorithm for ALGO1, or try to work on building an algorithm for other cases.\n",
    "\n",
    "In addition, this version of the tutorial is specifically tailored for Jupyter Notebook for easier access of codes and demonstration. If you consider yourself as a novice user who is starting to use Python, this Jupyter Notebook will provide you with more guidance and support.\n",
    "\n",
    "Before we start, please go visit the RIT REST API Interactive Documentation link and take a quick look until the \"Additional Notes\" section from this webpage: http://rit.306w.ca/RIT-REST-API/1.0.2/ Then, please make sure that your RIT Client is connected to a case in order to make sure that we can run interactive codes and check outcomes on a real-time basis. Pleas also note that some commands may not work depending on the case setup (i.e. if the API order submission is not allowed or if there is no asset enabled in the case, then the corresponding commands will not work)."
   ]
  },
  {
   "cell_type": "markdown",
   "metadata": {},
   "source": [
    "## Basic Setup"
   ]
  },
  {
   "cell_type": "markdown",
   "metadata": {},
   "source": [
    "### Session Request"
   ]
  },
  {
   "cell_type": "markdown",
   "metadata": {},
   "source": [
    "RIT uses REpresentational State Transfer (REST) API which is one of the most popular architectural style of APIs for web-based communications. This particular API carries a simple set of guidelines that are logical and straight-forward to use. In order to interact with RIT data via REST API, it is important to first create a <code>request</code> in Python to establish a connection between the code (your algorithm) and the RIT Client.\n",
    "\n",
    "Generally, a <code>request</code> requires the use of the following inputs/arguments:\n",
    "- Endpoint: it's usually a URL that you're interacting with. It will be provided to you by default via RIT.\n",
    "- Headers: different types of data that may need to be included with the request. It's usually authorization information such as an authentication token\n",
    "- Method: different approaches of interacting with endpoint data. For example, you may use GET/POST/DELETE methods.\n",
    "- Data: different values/keys that you may need to submit depending on the method type.\n",
    "\n",
    "First, let's import the <code>Requests</code> module."
   ]
  },
  {
   "cell_type": "code",
   "execution_count": 38,
   "metadata": {},
   "outputs": [],
   "source": [
    "import requests"
   ]
  },
  {
   "cell_type": "markdown",
   "metadata": {},
   "source": [
    "Since we will establish a connection to RIT Client and keep interacting with it by pulling and/or submitting data, we will need to create a <code>session object</code> which allows us to persist certain parameters such as authentication. Once we create a <code>session object</code>, we can simply keep using it by changing the endpoint and method later on.\n",
    "\n",
    "For now, let's set up a simple <code>session object</code> as <code>s</code>. You will also note that we are using <code>.session()</code> class within the <code>requests</code> module."
   ]
  },
  {
   "cell_type": "code",
   "execution_count": 39,
   "metadata": {},
   "outputs": [],
   "source": [
    "s = requests.session()"
   ]
  },
  {
   "cell_type": "markdown",
   "metadata": {},
   "source": [
    "### API KEY"
   ]
  },
  {
   "cell_type": "markdown",
   "metadata": {},
   "source": [
    "The next step is to connect the Jupyter Notebook to your RIT Client. First, you'll need to log into your RIT Client, and go to the bottom-right corner to click on the <code>API</code> icon. Then, you'll see the following pop-up message that allows you to view/change the REST API information. You will need to use the API Key to connect to RIT Client, and since it is randomly generated and you are able to change it, we recommend that you change it to something easier to work with. From the example below, the API Key is changed to 'rotman'."
   ]
  },
  {
   "attachments": {
    "image.png": {
     "image/png": "[encoded data removed]"
    }
   },
   "cell_type": "markdown",
   "metadata": {},
   "source": [
    "![image.png](attachment:image.png)"
   ]
  },
  {
   "cell_type": "markdown",
   "metadata": {},
   "source": [
    "Once your <code>API KEY</code> is set, you may write the following command to set up the <code>API KEY</code> in Jupyter Notebook for connection."
   ]
  },
  {
   "cell_type": "code",
   "execution_count": 40,
   "metadata": {},
   "outputs": [],
   "source": [
    "API_KEY = {'X-API-Key': 'rotman'}"
   ]
  },
  {
   "cell_type": "markdown",
   "metadata": {},
   "source": [
    "Then, we will now update the <code>header</code> for the <code>session</code> above to establish a connection."
   ]
  },
  {
   "cell_type": "code",
   "execution_count": 41,
   "metadata": {},
   "outputs": [],
   "source": [
    "s.headers.update(API_KEY)"
   ]
  },
  {
   "cell_type": "markdown",
   "metadata": {},
   "source": [
    "Now, let's start trying out the basic RIT REST API commands."
   ]
  },
  {
   "cell_type": "markdown",
   "metadata": {},
   "source": [
    "## Getting General Information"
   ]
  },
  {
   "cell_type": "markdown",
   "metadata": {},
   "source": [
    "When you create a <code>request</code> to interact with RIT Client via REST API, it returns a <code>response object</code>. By default, the returned value will always be <code>HTTP code</code>, and you will need to specify the response type to <code>JSON</code> if you want to see the json-encoded content of a response via RIT REST API.\n",
    "\n",
    "Let's take a look at the examples below."
   ]
  },
  {
   "cell_type": "markdown",
   "metadata": {},
   "source": [
    "### GET/case"
   ]
  },
  {
   "cell_type": "code",
   "execution_count": 18,
   "metadata": {},
   "outputs": [],
   "source": [
    "resp = s.get('http://localhost:9999/v1/case')"
   ]
  },
  {
   "cell_type": "markdown",
   "metadata": {},
   "source": [
    "We first set <code>resp</code> as a <code>session request</code> (as denoted by <code>s</code>). Then we used the <code>GET</code> method to specifically retrieve information about the current case by adding <code>/case</code> in the end. In order to check the response (i.e. returned values), we will simply query <code>resp</code> as shown below."
   ]
  },
  {
   "cell_type": "code",
   "execution_count": 19,
   "metadata": {},
   "outputs": [
    {
     "data": {
      "text/plain": [
       "<Response [200]>"
      ]
     },
     "execution_count": 19,
     "metadata": {},
     "output_type": "execute_result"
    }
   ],
   "source": [
    "resp"
   ]
  },
  {
   "cell_type": "markdown",
   "metadata": {},
   "source": [
    "If the connection and the request are made successfully, then you should see <code>Response [200]</code> as a returned value. If you receive <code>Response [401]</code>, it means that your connection is not properly set up. Please make sure that your RIT Client is logged in, and that your <code>API KEY</code> is correctly set up as shown in the above step.\n",
    "\n",
    "Assuming that you received the proper response code <code>200</code>, let's try to get the content of the response in <code>JSON</code> by simply adding <code>.JSON</code> in the end."
   ]
  },
  {
   "cell_type": "code",
   "execution_count": 20,
   "metadata": {},
   "outputs": [
    {
     "data": {
      "text/plain": [
       "{'name': 'RIT REST API Example Demo Case',\n",
       " 'period': 1,\n",
       " 'tick': 21,\n",
       " 'ticks_per_period': 300,\n",
       " 'total_periods': 1,\n",
       " 'status': 'PAUSED',\n",
       " 'is_enforce_trading_limits': True}"
      ]
     },
     "execution_count": 20,
     "metadata": {},
     "output_type": "execute_result"
    }
   ],
   "source": [
    "resp.json()"
   ]
  },
  {
   "cell_type": "markdown",
   "metadata": {},
   "source": [
    "Now you will see that the complete content is displayed in the <code>JSON</code> format. If you would like to pick a particular data point, you can try using the square brackets and the data point names. For example, if you want to pick up the current <code>tick</code> of the case, you may use the following:"
   ]
  },
  {
   "cell_type": "code",
   "execution_count": 21,
   "metadata": {},
   "outputs": [
    {
     "data": {
      "text/plain": [
       "21"
      ]
     },
     "execution_count": 21,
     "metadata": {},
     "output_type": "execute_result"
    }
   ],
   "source": [
    "info = resp.json()\n",
    "tick = info['tick']\n",
    "tick"
   ]
  },
  {
   "cell_type": "markdown",
   "metadata": {},
   "source": [
    "First, we created <code>info</code> as a variable that contains the <code>JSON</code> response. Then, we assigned  <code>info['tick']</code> from the response to <code>tick</code>. Now, <code>tick</code> will contain the current tick of the case whenever it's queried as we keep building our code."
   ]
  },
  {
   "cell_type": "markdown",
   "metadata": {},
   "source": [
    "Similarly, you can use the following GET methods to retrieve the relevant information."
   ]
  },
  {
   "cell_type": "markdown",
   "metadata": {},
   "source": [
    "### GET/trader"
   ]
  },
  {
   "cell_type": "markdown",
   "metadata": {},
   "source": [
    "From now on, we will keep using <code>resp</code> as a starting point for each data point. Please note that it is important to run these codes sequentially as <code>resp</code> will be repeated for each data point for this tutorial. It is intended to use the same <code>resp</code> variable as it will be used separately within different helper methods later."
   ]
  },
  {
   "cell_type": "code",
   "execution_count": 44,
   "metadata": {},
   "outputs": [
    {
     "data": {
      "text/plain": [
       "{'trader_id': '1', 'first_name': '1', 'last_name': '1', 'nlv': 0.0}"
      ]
     },
     "execution_count": 44,
     "metadata": {},
     "output_type": "execute_result"
    }
   ],
   "source": [
    "resp = s.get('http://localhost:9999/v1/trader')\n",
    "trader = resp.json()\n",
    "trader"
   ]
  },
  {
   "cell_type": "markdown",
   "metadata": {},
   "source": [
    "### GET/limits"
   ]
  },
  {
   "cell_type": "code",
   "execution_count": 58,
   "metadata": {},
   "outputs": [
    {
     "data": {
      "text/plain": [
       "[{'name': 'LIMIT-STOCK',\n",
       "  'gross': 0.0,\n",
       "  'net': 0.0,\n",
       "  'gross_limit': 250000,\n",
       "  'net_limit': 100000,\n",
       "  'gross_fine': 1.0,\n",
       "  'net_fine': 1.0},\n",
       " {'name': 'CRUDE',\n",
       "  'gross': 0.0,\n",
       "  'net': 0.0,\n",
       "  'gross_limit': 500,\n",
       "  'net_limit': 100,\n",
       "  'gross_fine': 0.0,\n",
       "  'net_fine': 0.0},\n",
       " {'name': 'PRODUCT',\n",
       "  'gross': 0.0,\n",
       "  'net': 0.0,\n",
       "  'gross_limit': 500,\n",
       "  'net_limit': 100,\n",
       "  'gross_fine': 0.0,\n",
       "  'net_fine': 0.0}]"
      ]
     },
     "execution_count": 58,
     "metadata": {},
     "output_type": "execute_result"
    }
   ],
   "source": [
    "resp = s.get('http://localhost:9999/v1/limits')\n",
    "limits = resp.json()\n",
    "limits"
   ]
  },
  {
   "cell_type": "markdown",
   "metadata": {},
   "source": [
    "In this case, you may notice that the response starts with square brackets. This is because the response contains a list (or an array) of objects for each limit category such as <code>LIMIT-STOCK</code>, <code>CRUDE</code>, and <code>PRODUCE</code> in this case.\n",
    "\n",
    "If you want to grab a particular array, you may use <code>[#]</code> where <code>#</code> refers to the sequence number of the array. For example, if you want to grab the information for <code>LIMIT-STOCK</code> only, then you may use <code>[0]</code> (i.e. an array starts from 0). Combining what we learned above to grab a particular data point, we can do the following to grab 'gross limit' for the <code>LIMIT-STOCK</code> category."
   ]
  },
  {
   "cell_type": "code",
   "execution_count": 66,
   "metadata": {},
   "outputs": [
    {
     "data": {
      "text/plain": [
       "250000"
      ]
     },
     "execution_count": 66,
     "metadata": {},
     "output_type": "execute_result"
    }
   ],
   "source": [
    "glimit=limits[0]['gross_limit']\n",
    "glimit"
   ]
  },
  {
   "cell_type": "markdown",
   "metadata": {},
   "source": [
    "Similarly, if you want to grab a net limit and a gross limit for the <code>LIMIT-STOCK</code> category together, we can try the following:"
   ]
  },
  {
   "cell_type": "code",
   "execution_count": 64,
   "metadata": {},
   "outputs": [
    {
     "data": {
      "text/plain": [
       "(250000, 100000)"
      ]
     },
     "execution_count": 64,
     "metadata": {},
     "output_type": "execute_result"
    }
   ],
   "source": [
    "gnlimit=limits[0]['gross_limit'], limits[0]['net_limit']\n",
    "gnlimit"
   ]
  },
  {
   "cell_type": "markdown",
   "metadata": {},
   "source": [
    "### GET/news"
   ]
  },
  {
   "cell_type": "markdown",
   "metadata": {},
   "source": [
    "You can also retrieve news items and related information using RIT REST API."
   ]
  },
  {
   "cell_type": "code",
   "execution_count": 65,
   "metadata": {},
   "outputs": [
    {
     "data": {
      "text/plain": [
       "[{'news_id': 0,\n",
       "  'period': 1,\n",
       "  'tick': 0,\n",
       "  'ticker': '',\n",
       "  'headline': 'Welcome to the RIT REST API example case',\n",
       "  'body': 'Please note that this case is solely designed for RIT REST API feature testing purpose.'}]"
      ]
     },
     "execution_count": 65,
     "metadata": {},
     "output_type": "execute_result"
    }
   ],
   "source": [
    "resp = s.get('http://localhost:9999/v1/news')\n",
    "news = resp.json()\n",
    "news"
   ]
  },
  {
   "cell_type": "markdown",
   "metadata": {},
   "source": [
    "## Securities"
   ]
  },
  {
   "cell_type": "markdown",
   "metadata": {},
   "source": [
    "In this section, we will try to grab information related to securities available in RIT using the <code>GET</code> method."
   ]
  },
  {
   "cell_type": "markdown",
   "metadata": {},
   "source": [
    "### GET/securities"
   ]
  },
  {
   "cell_type": "markdown",
   "metadata": {},
   "source": [
    "Similarly, we can use the <code>GET/securities</code> method to pull information about securities. For example, if you want to retrieve the list of securities avaialble in the RIT case along with general information such as type, position, cost(VWAP), volume, etc., you can use the <code>GET/securities</code> method as shown below."
   ]
  },
  {
   "cell_type": "code",
   "execution_count": 77,
   "metadata": {},
   "outputs": [
    {
     "data": {
      "text/plain": [
       "[{'ticker': 'CRZY',\n",
       "  'type': 'STOCK',\n",
       "  'size': 1,\n",
       "  'position': 100.0,\n",
       "  'vwap': 9.99,\n",
       "  'nlv': 995.0,\n",
       "  'last': 9.99,\n",
       "  'bid': 9.97,\n",
       "  'bid_size': 5300.0,\n",
       "  'ask': 9.99,\n",
       "  'ask_size': 4300.0,\n",
       "  'volume': 33300.0,\n",
       "  'unrealized': -4.0,\n",
       "  'realized': -2.0,\n",
       "  'currency': '',\n",
       "  'total_volume': 33300.0,\n",
       "  'limits': [{'name': 'LIMIT-STOCK', 'units': 1.0}],\n",
       "  'interest_rate': 0.0,\n",
       "  'is_tradeable': True,\n",
       "  'is_shortable': True,\n",
       "  'start_period': 1,\n",
       "  'stop_period': 1,\n",
       "  'description': 'CRZY Common Shares',\n",
       "  'unit_multiplier': 1,\n",
       "  'display_unit': 'Shares',\n",
       "  'start_price': 10.0,\n",
       "  'min_price': 5.0,\n",
       "  'max_price': 20.0,\n",
       "  'quoted_decimals': 2,\n",
       "  'trading_fee': 0.02,\n",
       "  'limit_order_rebate': 0.0,\n",
       "  'max_trade_size': 25000,\n",
       "  'required_tickers': None,\n",
       "  'underlying_tickers': None,\n",
       "  'bond_coupon': 0.0,\n",
       "  'interest_payments_per_period': 0,\n",
       "  'base_security': '',\n",
       "  'fixing_ticker': None,\n",
       "  'api_orders_per_second': 20,\n",
       "  'execution_delay_ms': 0,\n",
       "  'interest_rate_ticker': None,\n",
       "  'otc_price_range': 0.0},\n",
       " {'ticker': 'TAME',\n",
       "  'type': 'STOCK',\n",
       "  'size': 1,\n",
       "  'position': 0.0,\n",
       "  'vwap': 0.0,\n",
       "  'nlv': 0.0,\n",
       "  'last': 24.91,\n",
       "  'bid': 24.9,\n",
       "  'bid_size': 5100.0,\n",
       "  'ask': 24.91,\n",
       "  'ask_size': 5100.0,\n",
       "  'volume': 44100.0,\n",
       "  'unrealized': 0.0,\n",
       "  'realized': 0.0,\n",
       "  'currency': '',\n",
       "  'total_volume': 44100.0,\n",
       "  'limits': [{'name': 'LIMIT-STOCK', 'units': 1.0}],\n",
       "  'interest_rate': 0.0,\n",
       "  'is_tradeable': True,\n",
       "  'is_shortable': True,\n",
       "  'start_period': 1,\n",
       "  'stop_period': 1,\n",
       "  'description': 'TAME Common Shares',\n",
       "  'unit_multiplier': 1,\n",
       "  'display_unit': 'Shares',\n",
       "  'start_price': 25.0,\n",
       "  'min_price': 15.0,\n",
       "  'max_price': 35.0,\n",
       "  'quoted_decimals': 2,\n",
       "  'trading_fee': 0.02,\n",
       "  'limit_order_rebate': 0.0,\n",
       "  'max_trade_size': 10000,\n",
       "  'required_tickers': None,\n",
       "  'underlying_tickers': None,\n",
       "  'bond_coupon': 0.0,\n",
       "  'interest_payments_per_period': 0,\n",
       "  'base_security': '',\n",
       "  'fixing_ticker': None,\n",
       "  'api_orders_per_second': 20,\n",
       "  'execution_delay_ms': 0,\n",
       "  'interest_rate_ticker': None,\n",
       "  'otc_price_range': 0.0},\n",
       " {'ticker': 'ETF',\n",
       "  'type': 'STOCK',\n",
       "  'size': 1,\n",
       "  'position': 0.0,\n",
       "  'vwap': 0.0,\n",
       "  'nlv': 0.0,\n",
       "  'last': 34.96,\n",
       "  'bid': 34.97,\n",
       "  'bid_size': 4900.0,\n",
       "  'ask': 35.02,\n",
       "  'ask_size': 3900.0,\n",
       "  'volume': 26300.0,\n",
       "  'unrealized': 0.0,\n",
       "  'realized': 0.0,\n",
       "  'currency': '',\n",
       "  'total_volume': 26300.0,\n",
       "  'limits': [{'name': 'LIMIT-STOCK', 'units': 1.0}],\n",
       "  'interest_rate': 0.0,\n",
       "  'is_tradeable': True,\n",
       "  'is_shortable': True,\n",
       "  'start_period': 1,\n",
       "  'stop_period': 1,\n",
       "  'description': 'ETF',\n",
       "  'unit_multiplier': 1,\n",
       "  'display_unit': 'Shares',\n",
       "  'start_price': 35.0,\n",
       "  'min_price': 20.0,\n",
       "  'max_price': 50.0,\n",
       "  'quoted_decimals': 2,\n",
       "  'trading_fee': 0.02,\n",
       "  'limit_order_rebate': 0.0,\n",
       "  'max_trade_size': 5000,\n",
       "  'required_tickers': None,\n",
       "  'underlying_tickers': None,\n",
       "  'bond_coupon': 0.0,\n",
       "  'interest_payments_per_period': 0,\n",
       "  'base_security': '',\n",
       "  'fixing_ticker': None,\n",
       "  'api_orders_per_second': 20,\n",
       "  'execution_delay_ms': 0,\n",
       "  'interest_rate_ticker': None,\n",
       "  'otc_price_range': 0.0},\n",
       " {'ticker': 'CL',\n",
       "  'type': 'SPOT',\n",
       "  'size': 1000,\n",
       "  'position': 0.0,\n",
       "  'vwap': 0.0,\n",
       "  'nlv': 0.0,\n",
       "  'last': 50.05,\n",
       "  'bid': 50.04,\n",
       "  'bid_size': 300000.0,\n",
       "  'ask': 50.06,\n",
       "  'ask_size': 300000.0,\n",
       "  'volume': 0.0,\n",
       "  'unrealized': 0.0,\n",
       "  'realized': 0.0,\n",
       "  'currency': '',\n",
       "  'total_volume': 0.0,\n",
       "  'limits': [{'name': 'CRUDE', 'units': 1.0}],\n",
       "  'interest_rate': 0.0,\n",
       "  'is_tradeable': True,\n",
       "  'is_shortable': False,\n",
       "  'start_period': 1,\n",
       "  'stop_period': 2,\n",
       "  'description': 'Crude Oil Spot',\n",
       "  'unit_multiplier': 1000,\n",
       "  'display_unit': 'Barrels',\n",
       "  'start_price': 50.0,\n",
       "  'min_price': 0.0,\n",
       "  'max_price': 1000.0,\n",
       "  'quoted_decimals': 2,\n",
       "  'trading_fee': 1.0,\n",
       "  'limit_order_rebate': 0.0,\n",
       "  'max_trade_size': 30,\n",
       "  'required_tickers': 'CL-STORAGE',\n",
       "  'underlying_tickers': None,\n",
       "  'bond_coupon': 0.0,\n",
       "  'interest_payments_per_period': 0,\n",
       "  'base_security': '',\n",
       "  'fixing_ticker': None,\n",
       "  'api_orders_per_second': 20,\n",
       "  'execution_delay_ms': 0,\n",
       "  'interest_rate_ticker': None,\n",
       "  'otc_price_range': 0.0},\n",
       " {'ticker': 'CL-AK',\n",
       "  'type': 'SPOT',\n",
       "  'size': 1000,\n",
       "  'position': 0.0,\n",
       "  'vwap': 0.0,\n",
       "  'nlv': 0.0,\n",
       "  'last': 44.28,\n",
       "  'bid': 44.27,\n",
       "  'bid_size': 300000.0,\n",
       "  'ask': 44.29,\n",
       "  'ask_size': 300000.0,\n",
       "  'volume': 0.0,\n",
       "  'unrealized': 0.0,\n",
       "  'realized': 0.0,\n",
       "  'currency': '',\n",
       "  'total_volume': 0.0,\n",
       "  'limits': [{'name': 'CRUDE', 'units': 1.0}],\n",
       "  'interest_rate': 0.0,\n",
       "  'is_tradeable': True,\n",
       "  'is_shortable': False,\n",
       "  'start_period': 1,\n",
       "  'stop_period': 2,\n",
       "  'description': 'Crude Oil in Alaska',\n",
       "  'unit_multiplier': 1000,\n",
       "  'display_unit': 'Barrels',\n",
       "  'start_price': 45.0,\n",
       "  'min_price': 0.0,\n",
       "  'max_price': 1000.0,\n",
       "  'quoted_decimals': 2,\n",
       "  'trading_fee': 1.0,\n",
       "  'limit_order_rebate': 0.0,\n",
       "  'max_trade_size': 30,\n",
       "  'required_tickers': 'AK-STORAGE',\n",
       "  'underlying_tickers': None,\n",
       "  'bond_coupon': 0.0,\n",
       "  'interest_payments_per_period': 0,\n",
       "  'base_security': '',\n",
       "  'fixing_ticker': None,\n",
       "  'api_orders_per_second': 20,\n",
       "  'execution_delay_ms': 0,\n",
       "  'interest_rate_ticker': None,\n",
       "  'otc_price_range': 0.0},\n",
       " {'ticker': 'HO',\n",
       "  'type': 'SPOT',\n",
       "  'size': 42000,\n",
       "  'position': 0.0,\n",
       "  'vwap': 0.0,\n",
       "  'nlv': 0.0,\n",
       "  'last': 3.02,\n",
       "  'bid': 3.01,\n",
       "  'bid_size': 300000.0,\n",
       "  'ask': 3.03,\n",
       "  'ask_size': 300000.0,\n",
       "  'volume': 0.0,\n",
       "  'unrealized': 0.0,\n",
       "  'realized': 0.0,\n",
       "  'currency': '',\n",
       "  'total_volume': 0.0,\n",
       "  'limits': [{'name': 'PRODUCT', 'units': 1.0}],\n",
       "  'interest_rate': 0.0,\n",
       "  'is_tradeable': True,\n",
       "  'is_shortable': False,\n",
       "  'start_period': 1,\n",
       "  'stop_period': 2,\n",
       "  'description': 'Heating Oil',\n",
       "  'unit_multiplier': 42000,\n",
       "  'display_unit': 'Gallons',\n",
       "  'start_price': 3.0,\n",
       "  'min_price': 0.0,\n",
       "  'max_price': 1000.0,\n",
       "  'quoted_decimals': 2,\n",
       "  'trading_fee': 1.0,\n",
       "  'limit_order_rebate': 0.0,\n",
       "  'max_trade_size': 30,\n",
       "  'required_tickers': None,\n",
       "  'underlying_tickers': None,\n",
       "  'bond_coupon': 0.0,\n",
       "  'interest_payments_per_period': 0,\n",
       "  'base_security': '',\n",
       "  'fixing_ticker': None,\n",
       "  'api_orders_per_second': 20,\n",
       "  'execution_delay_ms': 0,\n",
       "  'interest_rate_ticker': None,\n",
       "  'otc_price_range': 0.0},\n",
       " {'ticker': 'RB',\n",
       "  'type': 'SPOT',\n",
       "  'size': 42000,\n",
       "  'position': 0.0,\n",
       "  'vwap': 0.0,\n",
       "  'nlv': 0.0,\n",
       "  'last': 2.49,\n",
       "  'bid': 2.48,\n",
       "  'bid_size': 300000.0,\n",
       "  'ask': 2.5,\n",
       "  'ask_size': 300000.0,\n",
       "  'volume': 0.0,\n",
       "  'unrealized': 0.0,\n",
       "  'realized': 0.0,\n",
       "  'currency': '',\n",
       "  'total_volume': 0.0,\n",
       "  'limits': [{'name': 'PRODUCT', 'units': 1.0}],\n",
       "  'interest_rate': 0.0,\n",
       "  'is_tradeable': True,\n",
       "  'is_shortable': False,\n",
       "  'start_period': 1,\n",
       "  'stop_period': 2,\n",
       "  'description': 'RBOB Gasoline',\n",
       "  'unit_multiplier': 42000,\n",
       "  'display_unit': 'Gallons',\n",
       "  'start_price': 2.5,\n",
       "  'min_price': 0.0,\n",
       "  'max_price': 1000.0,\n",
       "  'quoted_decimals': 2,\n",
       "  'trading_fee': 1.0,\n",
       "  'limit_order_rebate': 0.0,\n",
       "  'max_trade_size': 30,\n",
       "  'required_tickers': None,\n",
       "  'underlying_tickers': None,\n",
       "  'bond_coupon': 0.0,\n",
       "  'interest_payments_per_period': 0,\n",
       "  'base_security': '',\n",
       "  'fixing_ticker': None,\n",
       "  'api_orders_per_second': 20,\n",
       "  'execution_delay_ms': 0,\n",
       "  'interest_rate_ticker': None,\n",
       "  'otc_price_range': 0.0}]"
      ]
     },
     "execution_count": 77,
     "metadata": {},
     "output_type": "execute_result"
    }
   ],
   "source": [
    "resp = s.get('http://localhost:9999/v1/securities')\n",
    "sec = resp.json()\n",
    "sec"
   ]
  },
  {
   "cell_type": "markdown",
   "metadata": {},
   "source": [
    "The <code>GET/securities</code> method also allows you to retrieve information for a particular security by adding a particular syntax. For example, if you wish to pull the information for <code>CRZY</code>, you will need to add <code>?ticker=CRZY</code> at the end of the <code>GET/securities</code> method as shown below."
   ]
  },
  {
   "cell_type": "code",
   "execution_count": 15,
   "metadata": {},
   "outputs": [
    {
     "data": {
      "text/plain": [
       "[{'ticker': 'CRZY',\n",
       "  'type': 'STOCK',\n",
       "  'size': 1,\n",
       "  'position': 100.0,\n",
       "  'vwap': 9.99,\n",
       "  'nlv': None,\n",
       "  'last': 0.0,\n",
       "  'bid': 9.97,\n",
       "  'bid_size': 5300.0,\n",
       "  'ask': 9.99,\n",
       "  'ask_size': 4300.0,\n",
       "  'volume': 33300.0,\n",
       "  'unrealized': None,\n",
       "  'realized': -2.0,\n",
       "  'currency': '',\n",
       "  'total_volume': 33300.0,\n",
       "  'limits': [{'name': 'LIMIT-STOCK', 'units': 1.0}],\n",
       "  'interest_rate': 0.0,\n",
       "  'is_tradeable': True,\n",
       "  'is_shortable': True,\n",
       "  'start_period': 1,\n",
       "  'stop_period': 1,\n",
       "  'description': 'CRZY Common Shares',\n",
       "  'unit_multiplier': 1,\n",
       "  'display_unit': 'Shares',\n",
       "  'start_price': 10.0,\n",
       "  'min_price': 5.0,\n",
       "  'max_price': 20.0,\n",
       "  'quoted_decimals': 2,\n",
       "  'trading_fee': 0.02,\n",
       "  'limit_order_rebate': 0.0,\n",
       "  'max_trade_size': 25000,\n",
       "  'required_tickers': None,\n",
       "  'underlying_tickers': None,\n",
       "  'bond_coupon': 0.0,\n",
       "  'interest_payments_per_period': 0,\n",
       "  'base_security': '',\n",
       "  'fixing_ticker': None,\n",
       "  'api_orders_per_second': 20,\n",
       "  'execution_delay_ms': 0,\n",
       "  'interest_rate_ticker': None,\n",
       "  'otc_price_range': 0.0}]"
      ]
     },
     "execution_count": 15,
     "metadata": {},
     "output_type": "execute_result"
    }
   ],
   "source": [
    "resp = s.get('http://localhost:9999/v1/securities?ticker=CRZY')\n",
    "crzy = resp.json()\n",
    "crzy"
   ]
  },
  {
   "cell_type": "markdown",
   "metadata": {},
   "source": [
    "Now, in order to make it more dynamic and easier to code, we can use the <code>params</code> keyword argument instead of writing the ticker symbol by hand every time. The <code>params</code> keyword argument allows you to pass particular keys/values as a dictionary of strings.\n",
    "\n",
    "Note that this is possible since the <code>GET/securities</code> method allows the <code>params</code> keyword argument (i.e. it's programmed into the the <code>GET/securities</code> method which means that it may not work for other methods. Throughout this tutorial, this will be explicitly mentioned if it's available for particular methods).\n",
    "\n",
    "It is a standard to use the <code>params</code> keyword argument with <code>payload</code> to include the keys/values as shown below. This will come in handy when we build functions in Python later."
   ]
  },
  {
   "cell_type": "code",
   "execution_count": 18,
   "metadata": {},
   "outputs": [
    {
     "data": {
      "text/plain": [
       "[{'ticker': 'CRZY',\n",
       "  'type': 'STOCK',\n",
       "  'size': 1,\n",
       "  'position': 100.0,\n",
       "  'vwap': 9.99,\n",
       "  'nlv': None,\n",
       "  'last': 0.0,\n",
       "  'bid': 9.97,\n",
       "  'bid_size': 5300.0,\n",
       "  'ask': 9.99,\n",
       "  'ask_size': 4300.0,\n",
       "  'volume': 33300.0,\n",
       "  'unrealized': None,\n",
       "  'realized': -2.0,\n",
       "  'currency': '',\n",
       "  'total_volume': 33300.0,\n",
       "  'limits': [{'name': 'LIMIT-STOCK', 'units': 1.0}],\n",
       "  'interest_rate': 0.0,\n",
       "  'is_tradeable': True,\n",
       "  'is_shortable': True,\n",
       "  'start_period': 1,\n",
       "  'stop_period': 1,\n",
       "  'description': 'CRZY Common Shares',\n",
       "  'unit_multiplier': 1,\n",
       "  'display_unit': 'Shares',\n",
       "  'start_price': 10.0,\n",
       "  'min_price': 5.0,\n",
       "  'max_price': 20.0,\n",
       "  'quoted_decimals': 2,\n",
       "  'trading_fee': 0.02,\n",
       "  'limit_order_rebate': 0.0,\n",
       "  'max_trade_size': 25000,\n",
       "  'required_tickers': None,\n",
       "  'underlying_tickers': None,\n",
       "  'bond_coupon': 0.0,\n",
       "  'interest_payments_per_period': 0,\n",
       "  'base_security': '',\n",
       "  'fixing_ticker': None,\n",
       "  'api_orders_per_second': 20,\n",
       "  'execution_delay_ms': 0,\n",
       "  'interest_rate_ticker': None,\n",
       "  'otc_price_range': 0.0}]"
      ]
     },
     "execution_count": 18,
     "metadata": {},
     "output_type": "execute_result"
    }
   ],
   "source": [
    "payload={'ticker': 'CRZY'}\n",
    "resp = s.get('http://localhost:9999/v1/securities', params=payload)\n",
    "sec = resp.json()\n",
    "sec"
   ]
  },
  {
   "cell_type": "markdown",
   "metadata": {},
   "source": [
    "### GET/securities/book"
   ]
  },
  {
   "cell_type": "markdown",
   "metadata": {},
   "source": [
    "Similarly, we can use the <code>GET/securities/book</code> method with the <code>params</code> keyword arguement to pull the detailed order book information as shown below. In this case, we can try pulling the order book information for <code>CRZY</code>. Note that <code>limit</code> is an optional parameter that allows us to decide how many orders to show per each side of the book (bid and ask). If this parameter is not set, it will have a default value of 20."
   ]
  },
  {
   "cell_type": "code",
   "execution_count": 11,
   "metadata": {
    "scrolled": false
   },
   "outputs": [
    {
     "data": {
      "text/plain": [
       "{'bids': [{'order_id': 399,\n",
       "   'period': 1,\n",
       "   'tick': 21,\n",
       "   'trader_id': 'ANON',\n",
       "   'ticker': 'CRZY',\n",
       "   'quantity': 4400.0,\n",
       "   'price': 9.96,\n",
       "   'type': 'LIMIT',\n",
       "   'action': 'BUY',\n",
       "   'quantity_filled': 0.0,\n",
       "   'vwap': None,\n",
       "   'status': 'OPEN'},\n",
       "  {'order_id': 388,\n",
       "   'period': 1,\n",
       "   'tick': 21,\n",
       "   'trader_id': 'ANON',\n",
       "   'ticker': 'CRZY',\n",
       "   'quantity': 4200.0,\n",
       "   'price': 9.95,\n",
       "   'type': 'LIMIT',\n",
       "   'action': 'BUY',\n",
       "   'quantity_filled': 0.0,\n",
       "   'vwap': None,\n",
       "   'status': 'OPEN'},\n",
       "  {'order_id': 223,\n",
       "   'period': 1,\n",
       "   'tick': 9,\n",
       "   'trader_id': 'ANON',\n",
       "   'ticker': 'CRZY',\n",
       "   'quantity': 5700.0,\n",
       "   'price': 9.92,\n",
       "   'type': 'LIMIT',\n",
       "   'action': 'BUY',\n",
       "   'quantity_filled': 2700.0,\n",
       "   'vwap': 9.92,\n",
       "   'status': 'OPEN'},\n",
       "  {'order_id': 330,\n",
       "   'period': 1,\n",
       "   'tick': 17,\n",
       "   'trader_id': 'ANON',\n",
       "   'ticker': 'CRZY',\n",
       "   'quantity': 4700.0,\n",
       "   'price': 9.92,\n",
       "   'type': 'LIMIT',\n",
       "   'action': 'BUY',\n",
       "   'quantity_filled': 0.0,\n",
       "   'vwap': None,\n",
       "   'status': 'OPEN'},\n",
       "  {'order_id': 210,\n",
       "   'period': 1,\n",
       "   'tick': 8,\n",
       "   'trader_id': 'ANON',\n",
       "   'ticker': 'CRZY',\n",
       "   'quantity': 5600.0,\n",
       "   'price': 9.91,\n",
       "   'type': 'LIMIT',\n",
       "   'action': 'BUY',\n",
       "   'quantity_filled': 0.0,\n",
       "   'vwap': None,\n",
       "   'status': 'OPEN'}],\n",
       " 'asks': [{'order_id': 373,\n",
       "   'period': 1,\n",
       "   'tick': 19,\n",
       "   'trader_id': 'ANON',\n",
       "   'ticker': 'CRZY',\n",
       "   'quantity': 5400.0,\n",
       "   'price': 9.97,\n",
       "   'type': 'LIMIT',\n",
       "   'action': 'SELL',\n",
       "   'quantity_filled': 4900.0,\n",
       "   'vwap': 9.97,\n",
       "   'status': 'OPEN'},\n",
       "  {'order_id': 146,\n",
       "   'period': 1,\n",
       "   'tick': 3,\n",
       "   'trader_id': 'ANON',\n",
       "   'ticker': 'CRZY',\n",
       "   'quantity': 4700.0,\n",
       "   'price': 10.04,\n",
       "   'type': 'LIMIT',\n",
       "   'action': 'SELL',\n",
       "   'quantity_filled': 1500.0,\n",
       "   'vwap': 10.04,\n",
       "   'status': 'OPEN'},\n",
       "  {'order_id': 118,\n",
       "   'period': 1,\n",
       "   'tick': 1,\n",
       "   'trader_id': 'ANON',\n",
       "   'ticker': 'CRZY',\n",
       "   'quantity': 4300.0,\n",
       "   'price': 10.06,\n",
       "   'type': 'LIMIT',\n",
       "   'action': 'SELL',\n",
       "   'quantity_filled': 0.0,\n",
       "   'vwap': None,\n",
       "   'status': 'OPEN'},\n",
       "  {'order_id': 235,\n",
       "   'period': 1,\n",
       "   'tick': 10,\n",
       "   'trader_id': 'ANON',\n",
       "   'ticker': 'CRZY',\n",
       "   'quantity': 4300.0,\n",
       "   'price': 10.06,\n",
       "   'type': 'LIMIT',\n",
       "   'action': 'SELL',\n",
       "   'quantity_filled': 0.0,\n",
       "   'vwap': None,\n",
       "   'status': 'OPEN'},\n",
       "  {'order_id': 278,\n",
       "   'period': 1,\n",
       "   'tick': 13,\n",
       "   'trader_id': 'ANON',\n",
       "   'ticker': 'CRZY',\n",
       "   'quantity': 4100.0,\n",
       "   'price': 10.06,\n",
       "   'type': 'LIMIT',\n",
       "   'action': 'SELL',\n",
       "   'quantity_filled': 0.0,\n",
       "   'vwap': None,\n",
       "   'status': 'OPEN'}]}"
      ]
     },
     "execution_count": 11,
     "metadata": {},
     "output_type": "execute_result"
    }
   ],
   "source": [
    "payload={'ticker': 'CRZY', 'limit': 5}\n",
    "resp = s.get('http://localhost:9999/v1/securities/book', params=payload)\n",
    "crzybook = resp.json()\n",
    "crzybook"
   ]
  },
  {
   "cell_type": "markdown",
   "metadata": {},
   "source": [
    "Now if you want to pull the first orders only (i.e. best bid in the book for <code>CRZY</code>), you may try adding <code>[0]</code> in the end (again, the array starts with 0)."
   ]
  },
  {
   "cell_type": "code",
   "execution_count": 11,
   "metadata": {
    "scrolled": true
   },
   "outputs": [
    {
     "data": {
      "text/plain": [
       "{'order_id': 230,\n",
       " 'period': 1,\n",
       " 'tick': 9,\n",
       " 'trader_id': 'ANON',\n",
       " 'ticker': 'CRZY',\n",
       " 'quantity': 5300.0,\n",
       " 'price': 9.97,\n",
       " 'type': 'LIMIT',\n",
       " 'action': 'BUY',\n",
       " 'quantity_filled': 0.0,\n",
       " 'vwap': None,\n",
       " 'status': 'OPEN'}"
      ]
     },
     "execution_count": 11,
     "metadata": {},
     "output_type": "execute_result"
    }
   ],
   "source": [
    "crzybook['bids'][0]"
   ]
  },
  {
   "cell_type": "markdown",
   "metadata": {},
   "source": [
    "Moreover, if you're simply puiing the best bid price only, you can add <code>['price']</code> (the square bracket and the data point name) in the end as shown below."
   ]
  },
  {
   "cell_type": "code",
   "execution_count": 14,
   "metadata": {
    "scrolled": true
   },
   "outputs": [
    {
     "data": {
      "text/plain": [
       "9.97"
      ]
     },
     "execution_count": 14,
     "metadata": {},
     "output_type": "execute_result"
    }
   ],
   "source": [
    "crzybook['bids'][0]['price']"
   ]
  },
  {
   "cell_type": "markdown",
   "metadata": {},
   "source": [
    "### GET/securities/history"
   ]
  },
  {
   "cell_type": "markdown",
   "metadata": {},
   "source": [
    "The <code>GET/securities/history</code> method allows us to pull the historical OHLC (Open, High, Low, and Close) price information for a security. Similarly, we can use the <code>params</code> keyword arguement here as well. Note that <code>ticker</code> is the only required parameter, and <code>period</code> and <code>limit</code> are optional. For example, if we want to retrieve historical OHLC prices for <code>CRZY</code> for the last 5 ticks for period 1, then we may try the following code:"
   ]
  },
  {
   "cell_type": "code",
   "execution_count": 48,
   "metadata": {},
   "outputs": [
    {
     "data": {
      "text/plain": [
       "[{'tick': 50, 'open': 9.86, 'high': 9.86, 'low': 9.86, 'close': 9.86},\n",
       " {'tick': 49, 'open': 9.86, 'high': 9.86, 'low': 9.86, 'close': 9.86},\n",
       " {'tick': 48, 'open': 9.86, 'high': 9.86, 'low': 9.86, 'close': 9.86},\n",
       " {'tick': 47, 'open': 9.86, 'high': 9.86, 'low': 9.86, 'close': 9.86},\n",
       " {'tick': 46, 'open': 9.86, 'high': 9.86, 'low': 9.86, 'close': 9.86}]"
      ]
     },
     "execution_count": 48,
     "metadata": {},
     "output_type": "execute_result"
    }
   ],
   "source": [
    "payload={'ticker': 'CRZY', 'period': 1, 'limit':5}\n",
    "resp = s.get('http://localhost:9999/v1/securities/history', params=payload)\n",
    "crzyOHLC = resp.json()\n",
    "crzyOHLC"
   ]
  },
  {
   "cell_type": "markdown",
   "metadata": {},
   "source": [
    "### GET/securities/tas"
   ]
  },
  {
   "cell_type": "markdown",
   "metadata": {},
   "source": [
    "The <code>GET/securities/tas</code> method allows us to retrieve time & sales data for a security. <code>Ticker</code> is the only rqeuired parameter, and there are two approaches of pulling this endpoint:"
   ]
  },
  {
   "cell_type": "markdown",
   "metadata": {},
   "source": [
    "#### 1) Using <code>after</code>"
   ]
  },
  {
   "cell_type": "markdown",
   "metadata": {},
   "source": [
    "If <code>after</code> is specified, then only data with an <code>id</code> value greater than <code>after</code> will be returned. This allows only incremental data to be retrieved by storing the returned last <code>id</code> value. Setting <code>after=0</code> will return all time & sales data."
   ]
  },
  {
   "cell_type": "code",
   "execution_count": 31,
   "metadata": {
    "scrolled": true
   },
   "outputs": [
    {
     "data": {
      "text/plain": [
       "[{'id': 91, 'period': 1, 'tick': 20, 'price': 9.97, 'quantity': 4900.0},\n",
       " {'id': 86, 'period': 1, 'tick': 19, 'price': 10.04, 'quantity': 1500.0},\n",
       " {'id': 85, 'period': 1, 'tick': 19, 'price': 10.04, 'quantity': 2700.0},\n",
       " {'id': 83, 'period': 1, 'tick': 18, 'price': 10.04, 'quantity': 1400.0},\n",
       " {'id': 82, 'period': 1, 'tick': 18, 'price': 10.04, 'quantity': 1300.0},\n",
       " {'id': 81, 'period': 1, 'tick': 18, 'price': 9.95, 'quantity': 2700.0},\n",
       " {'id': 70, 'period': 1, 'tick': 15, 'price': 9.95, 'quantity': 1400.0},\n",
       " {'id': 69, 'period': 1, 'tick': 15, 'price': 9.95, 'quantity': 4500.0},\n",
       " {'id': 68, 'period': 1, 'tick': 15, 'price': 9.92, 'quantity': 500.0},\n",
       " {'id': 67, 'period': 1, 'tick': 15, 'price': 9.93, 'quantity': 5300.0},\n",
       " {'id': 61, 'period': 1, 'tick': 13, 'price': 10.04, 'quantity': 4500.0},\n",
       " {'id': 60, 'period': 1, 'tick': 13, 'price': 10.02, 'quantity': 400.0},\n",
       " {'id': 52, 'period': 1, 'tick': 11, 'price': 10.03, 'quantity': 4500.0},\n",
       " {'id': 40, 'period': 1, 'tick': 8, 'price': 9.92, 'quantity': 2200.0},\n",
       " {'id': 28, 'period': 1, 'tick': 4, 'price': 9.97, 'quantity': 3800.0},\n",
       " {'id': 23, 'period': 1, 'tick': 4, 'price': 9.97, 'quantity': 600.0},\n",
       " {'id': 22, 'period': 1, 'tick': 4, 'price': 9.99, 'quantity': 5500.0},\n",
       " {'id': 19, 'period': 1, 'tick': 3, 'price': 10.03, 'quantity': 4500.0},\n",
       " {'id': 18, 'period': 1, 'tick': 3, 'price': 10.03, 'quantity': 300.0},\n",
       " {'id': 11, 'period': 1, 'tick': 2, 'price': 10.03, 'quantity': 4200.0},\n",
       " {'id': 10, 'period': 1, 'tick': 2, 'price': 10.01, 'quantity': 400.0},\n",
       " {'id': 7, 'period': 1, 'tick': 1, 'price': 10.01, 'quantity': 5600.0},\n",
       " {'id': 2, 'period': 1, 'tick': 0, 'price': 9.97, 'quantity': 300.0},\n",
       " {'id': 1, 'period': 1, 'tick': 0, 'price': 9.99, 'quantity': 4600.0}]"
      ]
     },
     "execution_count": 31,
     "metadata": {},
     "output_type": "execute_result"
    }
   ],
   "source": [
    "payload={'ticker': 'CRZY', 'after': 0}\n",
    "resp = s.get('http://localhost:9999/v1/securities/tas', params=payload)\n",
    "crzytas = resp.json()\n",
    "crzytas"
   ]
  },
  {
   "cell_type": "markdown",
   "metadata": {},
   "source": [
    "#### 2) Using <code>period</code> and <code>limit</code>"
   ]
  },
  {
   "cell_type": "markdown",
   "metadata": {},
   "source": [
    "Alternatively, you can use <code>period</code> and <code>limit</code> to retrieve the time & sales data. This approach allows you to specify <code>period</code> and <code>limit</code> to fetch data from the corresponding period and tick window. Note that these two are optional parameters, and <code>limit</code> refers to the number of ticks to include, counting backwards from the current (most recent) tick. For example, if the current tick is 21 and the <code>limit</code> is set to 10, then the time & sales data from tick 11 to tick 21 will be fetched. Setting <code>limit=0</code> returns only data from the current period and current tick."
   ]
  },
  {
   "cell_type": "code",
   "execution_count": 34,
   "metadata": {
    "scrolled": true
   },
   "outputs": [
    {
     "data": {
      "text/plain": [
       "[{'id': 91, 'period': 1, 'tick': 20, 'price': 9.97, 'quantity': 4900.0},\n",
       " {'id': 86, 'period': 1, 'tick': 19, 'price': 10.04, 'quantity': 1500.0},\n",
       " {'id': 85, 'period': 1, 'tick': 19, 'price': 10.04, 'quantity': 2700.0},\n",
       " {'id': 83, 'period': 1, 'tick': 18, 'price': 10.04, 'quantity': 1400.0},\n",
       " {'id': 82, 'period': 1, 'tick': 18, 'price': 10.04, 'quantity': 1300.0},\n",
       " {'id': 81, 'period': 1, 'tick': 18, 'price': 9.95, 'quantity': 2700.0},\n",
       " {'id': 70, 'period': 1, 'tick': 15, 'price': 9.95, 'quantity': 1400.0},\n",
       " {'id': 69, 'period': 1, 'tick': 15, 'price': 9.95, 'quantity': 4500.0},\n",
       " {'id': 68, 'period': 1, 'tick': 15, 'price': 9.92, 'quantity': 500.0},\n",
       " {'id': 67, 'period': 1, 'tick': 15, 'price': 9.93, 'quantity': 5300.0},\n",
       " {'id': 61, 'period': 1, 'tick': 13, 'price': 10.04, 'quantity': 4500.0},\n",
       " {'id': 60, 'period': 1, 'tick': 13, 'price': 10.02, 'quantity': 400.0},\n",
       " {'id': 52, 'period': 1, 'tick': 11, 'price': 10.03, 'quantity': 4500.0}]"
      ]
     },
     "execution_count": 34,
     "metadata": {},
     "output_type": "execute_result"
    }
   ],
   "source": [
    "payload={'ticker': 'CRZY', 'period': 1, 'limit': 10}\n",
    "resp = s.get('http://localhost:9999/v1/securities/tas', params=payload)\n",
    "crzytas = resp.json()\n",
    "crzytas"
   ]
  },
  {
   "cell_type": "markdown",
   "metadata": {},
   "source": [
    "## Order Management"
   ]
  },
  {
   "cell_type": "markdown",
   "metadata": {},
   "source": [
    "### POST/orders"
   ]
  },
  {
   "cell_type": "markdown",
   "metadata": {},
   "source": [
    "While the <code>GET</code> method allows users to retrieve information from RIT, the <code>POST</code> method allows users to submit (send) information to RIT. Therefore, using the <code>POST/orders</code> method, you can submit an order algorithmically.\n",
    "\n",
    "The <code>POST/orders</code> method requires four required parameters such as the following:\n",
    "- ticker: it's the ticker symbol of the security that you're submitting an order for\n",
    "- type: <code>MARKET</code> for a market order and <code>LIMIT</code> for a limit order\n",
    "- quantity: a volume of the order\n",
    "- action: <code>BUY</code> for a buy order and <code>SELL</code> for a sell order\n",
    "\n",
    "There is one conditional parameter such as the following:\n",
    "- price: this key is required if the order type is a limit order to specify a price\n",
    "\n",
    "You may also try using <code>dry_run</code> to simulate an order execution. Note that this is an optional parameter and this is only available if you're submitting a market order.\n",
    "- dry_run: Entre <code>1</code> if you want to try this, otherwise entre <code>0</code> (or keep it blank)."
   ]
  },
  {
   "cell_type": "markdown",
   "metadata": {},
   "source": [
    "#### Submitting a Market Order"
   ]
  },
  {
   "cell_type": "code",
   "execution_count": 42,
   "metadata": {
    "scrolled": true
   },
   "outputs": [
    {
     "data": {
      "text/plain": [
       "{'order_id': 480,\n",
       " 'period': 1,\n",
       " 'tick': 26,\n",
       " 'trader_id': '1',\n",
       " 'ticker': 'CRZY',\n",
       " 'quantity': 2000.0,\n",
       " 'price': None,\n",
       " 'type': 'MARKET',\n",
       " 'action': 'BUY',\n",
       " 'quantity_filled': 2000.0,\n",
       " 'vwap': 10.06,\n",
       " 'status': 'TRANSACTED'}"
      ]
     },
     "execution_count": 42,
     "metadata": {},
     "output_type": "execute_result"
    }
   ],
   "source": [
    "payload={'ticker': 'CRZY', 'type': 'MARKET', 'quantity': 2000, 'action': 'BUY'}\n",
    "resp = s.post('http://localhost:9999/v1/orders', params=payload)\n",
    "crzyorder = resp.json()\n",
    "crzyorder"
   ]
  },
  {
   "cell_type": "markdown",
   "metadata": {},
   "source": [
    "It's important to note that the response also includes detailed order information such as qunatity filled, vwap (of your order), as well as the status.\n",
    "\n",
    "You can also try the <code>dry_run</code> parameter to simulate an execution. You'll see that the <code>order_id</code> key becomes \"None\" since no actual order is submitted."
   ]
  },
  {
   "cell_type": "code",
   "execution_count": 45,
   "metadata": {},
   "outputs": [
    {
     "data": {
      "text/plain": [
       "{'order_id': None,\n",
       " 'period': 1,\n",
       " 'tick': 34,\n",
       " 'trader_id': '1',\n",
       " 'ticker': 'CRZY',\n",
       " 'quantity': 5000.0,\n",
       " 'price': None,\n",
       " 'type': 'MARKET',\n",
       " 'action': 'BUY',\n",
       " 'quantity_filled': 5000.0,\n",
       " 'vwap': 9.91,\n",
       " 'status': 'TRANSACTED'}"
      ]
     },
     "execution_count": 45,
     "metadata": {},
     "output_type": "execute_result"
    }
   ],
   "source": [
    "payload={'ticker': 'CRZY', 'type': 'MARKET', 'quantity': 5000, 'action': 'BUY', 'dry_run': 1}\n",
    "resp = s.post('http://localhost:9999/v1/orders', params=payload)\n",
    "crzyorder = resp.json()\n",
    "crzyorder"
   ]
  },
  {
   "cell_type": "markdown",
   "metadata": {},
   "source": [
    "#### Submitting a Limit Order"
   ]
  },
  {
   "cell_type": "code",
   "execution_count": 47,
   "metadata": {},
   "outputs": [
    {
     "data": {
      "text/plain": [
       "{'order_id': 775,\n",
       " 'period': 1,\n",
       " 'tick': 47,\n",
       " 'trader_id': '1',\n",
       " 'ticker': 'CRZY',\n",
       " 'quantity': 3000.0,\n",
       " 'price': 9.7,\n",
       " 'type': 'LIMIT',\n",
       " 'action': 'BUY',\n",
       " 'quantity_filled': 0.0,\n",
       " 'vwap': None,\n",
       " 'status': 'OPEN'}"
      ]
     },
     "execution_count": 47,
     "metadata": {},
     "output_type": "execute_result"
    }
   ],
   "source": [
    "payload={'ticker': 'CRZY', 'type': 'LIMIT', 'quantity': 3000, 'action': 'BUY', 'PRICE': 9.70}\n",
    "resp = s.post('http://localhost:9999/v1/orders', params=payload)\n",
    "crzyorder = resp.json()\n",
    "crzyorder"
   ]
  },
  {
   "cell_type": "markdown",
   "metadata": {},
   "source": [
    "Using the <code>close</code> price from the <code>GET/securities/history</code> method above, we can also submit a limit order with a dynamic price. For example, if we want to submit a limit order with a price which is $0.15 less than the last price, we can write the following:"
   ]
  },
  {
   "cell_type": "code",
   "execution_count": 50,
   "metadata": {},
   "outputs": [
    {
     "data": {
      "text/plain": [
       "{'order_id': 934,\n",
       " 'period': 1,\n",
       " 'tick': 58,\n",
       " 'trader_id': '1',\n",
       " 'ticker': 'CRZY',\n",
       " 'quantity': 3000.0,\n",
       " 'price': 9.7,\n",
       " 'type': 'LIMIT',\n",
       " 'action': 'BUY',\n",
       " 'quantity_filled': 0.0,\n",
       " 'vwap': None,\n",
       " 'status': 'OPEN'}"
      ]
     },
     "execution_count": 50,
     "metadata": {},
     "output_type": "execute_result"
    }
   ],
   "source": [
    "payload={'ticker': 'CRZY', 'period': 1, 'limit':5}\n",
    "resp = s.get('http://localhost:9999/v1/securities/history', params=payload)\n",
    "crzyOHLC = resp.json()\n",
    "\n",
    "lastprice=crzyOHLC[0]['close'] #define the 'lastprice' variable using the securities/history method\n",
    "spread=0.15\n",
    "\n",
    "payload={'ticker': 'CRZY', 'type': 'LIMIT', 'quantity': 3000, 'action': 'BUY', 'PRICE': lastprice - spread}\n",
    "resp = s.post('http://localhost:9999/v1/orders', params=payload)\n",
    "crzyorder = resp.json()\n",
    "crzyorder"
   ]
  },
  {
   "cell_type": "markdown",
   "metadata": {},
   "source": [
    "### GET/orders"
   ]
  },
  {
   "cell_type": "markdown",
   "metadata": {},
   "source": [
    "The <code>GET/orders</code> method allows us to pull order information depending on status. By default, it will show any open orders that are submitted and outstanding in the book. Note that this method takes <code>status</code> which is an optional parameter to pull specific status of orders such as <code>OPEN</code>, <code>TRANSACTED</code>, and <code>CANCELLED</code>."
   ]
  },
  {
   "cell_type": "code",
   "execution_count": 51,
   "metadata": {},
   "outputs": [
    {
     "data": {
      "text/plain": [
       "[{'order_id': 934,\n",
       "  'period': 1,\n",
       "  'tick': 58,\n",
       "  'trader_id': '1',\n",
       "  'ticker': 'CRZY',\n",
       "  'quantity': 3000.0,\n",
       "  'price': 9.7,\n",
       "  'type': 'LIMIT',\n",
       "  'action': 'BUY',\n",
       "  'quantity_filled': 0.0,\n",
       "  'vwap': None,\n",
       "  'status': 'OPEN'}]"
      ]
     },
     "execution_count": 51,
     "metadata": {},
     "output_type": "execute_result"
    }
   ],
   "source": [
    "resp = s.get('http://localhost:9999/v1/orders')\n",
    "myorder = resp.json()\n",
    "myorder"
   ]
  },
  {
   "cell_type": "markdown",
   "metadata": {},
   "source": [
    "For example, by setting up <code>status</code> as <code>TRANSACTED</code>, you can pull the order information for all transacted orders that you submitted."
   ]
  },
  {
   "cell_type": "code",
   "execution_count": 54,
   "metadata": {},
   "outputs": [
    {
     "data": {
      "text/plain": [
       "[{'order_id': 639,\n",
       "  'period': 1,\n",
       "  'tick': 38,\n",
       "  'trader_id': '1',\n",
       "  'ticker': 'CRZY',\n",
       "  'quantity': 3000.0,\n",
       "  'price': 9.9,\n",
       "  'type': 'LIMIT',\n",
       "  'action': 'BUY',\n",
       "  'quantity_filled': 3000.0,\n",
       "  'vwap': 9.897333333333334,\n",
       "  'status': 'TRANSACTED'},\n",
       " {'order_id': 480,\n",
       "  'period': 1,\n",
       "  'tick': 26,\n",
       "  'trader_id': '1',\n",
       "  'ticker': 'CRZY',\n",
       "  'quantity': 2000.0,\n",
       "  'price': None,\n",
       "  'type': 'MARKET',\n",
       "  'action': 'BUY',\n",
       "  'quantity_filled': 2000.0,\n",
       "  'vwap': 10.06,\n",
       "  'status': 'TRANSACTED'},\n",
       " {'order_id': 429,\n",
       "  'period': 1,\n",
       "  'tick': 23,\n",
       "  'trader_id': '1',\n",
       "  'ticker': 'CRZY',\n",
       "  'quantity': 2000.0,\n",
       "  'price': None,\n",
       "  'type': 'MARKET',\n",
       "  'action': 'BUY',\n",
       "  'quantity_filled': 2000.0,\n",
       "  'vwap': 10.04,\n",
       "  'status': 'TRANSACTED'}]"
      ]
     },
     "execution_count": 54,
     "metadata": {},
     "output_type": "execute_result"
    }
   ],
   "source": [
    "payload={'status': 'TRANSACTED'}\n",
    "resp = s.get('http://localhost:9999/v1/orders', params = payload)\n",
    "myorder = resp.json()\n",
    "myorder"
   ]
  },
  {
   "cell_type": "markdown",
   "metadata": {},
   "source": [
    "### GET/orders/{id}"
   ]
  },
  {
   "cell_type": "markdown",
   "metadata": {},
   "source": [
    "You can also use a particular order ID to pull the order information. For example, if you have a transacted order with <code>order_id=480</code> and want to pull the order information for this specific order, you can do the following:"
   ]
  },
  {
   "cell_type": "code",
   "execution_count": 60,
   "metadata": {},
   "outputs": [
    {
     "data": {
      "text/plain": [
       "{'order_id': 480,\n",
       " 'period': 1,\n",
       " 'tick': 26,\n",
       " 'trader_id': '1',\n",
       " 'ticker': 'CRZY',\n",
       " 'quantity': 2000.0,\n",
       " 'price': None,\n",
       " 'type': 'MARKET',\n",
       " 'action': 'BUY',\n",
       " 'quantity_filled': 2000.0,\n",
       " 'vwap': 10.06,\n",
       " 'status': 'TRANSACTED'}"
      ]
     },
     "execution_count": 60,
     "metadata": {},
     "output_type": "execute_result"
    }
   ],
   "source": [
    "resp = s.get('http://localhost:9999/v1/orders/480')\n",
    "myorder = resp.json()\n",
    "myorder"
   ]
  },
  {
   "cell_type": "markdown",
   "metadata": {},
   "source": [
    "### DELETE/orders/{id}"
   ]
  },
  {
   "cell_type": "markdown",
   "metadata": {},
   "source": [
    "You may also use <code>DELETE/orders/{id}</code> to cancel a particular order. For example, if I have an open order with <code>order_id=934</code>, I can cancel this order using the following syntax."
   ]
  },
  {
   "cell_type": "code",
   "execution_count": 62,
   "metadata": {},
   "outputs": [
    {
     "data": {
      "text/plain": [
       "{'success': True}"
      ]
     },
     "execution_count": 62,
     "metadata": {},
     "output_type": "execute_result"
    }
   ],
   "source": [
    "resp = s.delete('http://localhost:9999/v1/orders/934')\n",
    "cancelorder = resp.json()\n",
    "cancelorder"
   ]
  },
  {
   "cell_type": "markdown",
   "metadata": {},
   "source": [
    "### POST/commands/cancel"
   ]
  },
  {
   "cell_type": "markdown",
   "metadata": {},
   "source": [
    "The <code>POST/commands/cancel</code> method allows us to cancel multiple orders using the following  parameters.\n",
    "- all: you can set it to 1 to cancel all open orders\n",
    "- ticker: you can write a ticker to cancel all open orders for the particular security\n",
    "- ids: you can use a comma-separated list of order ids to cancel multiple orders at once\n",
    "- query: you may use query strings to cancel specific orders such as <code>ticker='CRZY' and volume > 0</code>"
   ]
  },
  {
   "cell_type": "markdown",
   "metadata": {},
   "source": [
    "#### Using <code>all</code>"
   ]
  },
  {
   "cell_type": "code",
   "execution_count": 68,
   "metadata": {},
   "outputs": [
    {
     "data": {
      "text/plain": [
       "{'code': 'BAD_REQUEST', 'message': 'Specify a query parameter.'}"
      ]
     },
     "execution_count": 68,
     "metadata": {},
     "output_type": "execute_result"
    }
   ],
   "source": [
    "payload={'all': 1}\n",
    "resp = s.post('http://localhost:9999/v1/commands/cancel', params = payload)\n",
    "bulkcancel = resp.json()\n",
    "bulkcancel"
   ]
  },
  {
   "cell_type": "markdown",
   "metadata": {},
   "source": [
    "Note that <code>all</code> may display a sign to specify a query parameter as a response, but it will still cancel all your oders."
   ]
  },
  {
   "cell_type": "markdown",
   "metadata": {},
   "source": [
    "#### Using <code>ticker</code>"
   ]
  },
  {
   "cell_type": "code",
   "execution_count": 69,
   "metadata": {},
   "outputs": [
    {
     "data": {
      "text/plain": [
       "{'cancelled_order_ids': [1360, 1361, 1362, 1363, 1364, 1365, 1366, 1367]}"
      ]
     },
     "execution_count": 69,
     "metadata": {},
     "output_type": "execute_result"
    }
   ],
   "source": [
    "payload={'ticker': 'CRZY'}\n",
    "resp = s.post('http://localhost:9999/v1/commands/cancel', params = payload)\n",
    "bulkcancel = resp.json()\n",
    "bulkcancel"
   ]
  },
  {
   "cell_type": "markdown",
   "metadata": {},
   "source": [
    "#### Using <code>ids</code>"
   ]
  },
  {
   "cell_type": "code",
   "execution_count": 72,
   "metadata": {},
   "outputs": [
    {
     "data": {
      "text/plain": [
       "{'cancelled_order_ids': [1395, 1397, 1398, 1399, 1400, 1401]}"
      ]
     },
     "execution_count": 72,
     "metadata": {},
     "output_type": "execute_result"
    }
   ],
   "source": [
    "payload={'ids': [1395, 1397, 1398, 1399, 1400, 1401]}\n",
    "resp = s.post('http://localhost:9999/v1/commands/cancel', params = payload)\n",
    "bulkcancel = resp.json()\n",
    "bulkcancel"
   ]
  },
  {
   "cell_type": "markdown",
   "metadata": {},
   "source": [
    "#### Using <code>query</code>"
   ]
  },
  {
   "cell_type": "code",
   "execution_count": 77,
   "metadata": {},
   "outputs": [
    {
     "data": {
      "text/plain": [
       "{'cancelled_order_ids': [1540, 1541, 1542, 1543]}"
      ]
     },
     "execution_count": 77,
     "metadata": {},
     "output_type": "execute_result"
    }
   ],
   "source": [
    "payload={'query': \"ticker='CRZY' and volume > 0\"}\n",
    "resp = s.post('http://localhost:9999/v1/commands/cancel', params = payload)\n",
    "bulkcancel = resp.json()\n",
    "bulkcancel"
   ]
  },
  {
   "cell_type": "markdown",
   "metadata": {},
   "source": [
    "Note that the above method will result in cancelling all <code>BUY</code> orders as a result. Any <code>SELL</code> orders will have a negative sign in the volume so you would need to change the parameter to <code>volume < 0</code> if you want to cancel all outstanding <code>SELL</code> orders."
   ]
  },
  {
   "cell_type": "markdown",
   "metadata": {},
   "source": [
    "## Tender Order Management"
   ]
  },
  {
   "cell_type": "markdown",
   "metadata": {},
   "source": [
    "The RIT REST API commands also allow us to manage tender orders. Similar to how we managed orders above, we can retrieve tender order information, accept and/or decline tender orders."
   ]
  },
  {
   "cell_type": "markdown",
   "metadata": {},
   "source": [
    "### GET/tenders"
   ]
  },
  {
   "cell_type": "markdown",
   "metadata": {},
   "source": [
    "You can use the <code>GET/tenders</code> method to pull the tender order information. In the response, <code>is_fixed_bid</code> is set to <code>True</code> if the tender order has a specific offer price. For example, the tender orders from the LT3 (Liability Trading) 3 Case will have <code>is_fixed_bid</code> set to <code>True</code>. This index may be set to <code>False</code> in case the tender order requires you to submit a price."
   ]
  },
  {
   "cell_type": "code",
   "execution_count": 82,
   "metadata": {},
   "outputs": [
    {
     "data": {
      "text/plain": [
       "[{'tender_id': 2400,\n",
       "  'period': 1,\n",
       "  'tick': 202,\n",
       "  'expires': 233,\n",
       "  'caption': 'An institution would like to SELL 72000 shares of CRZY to you at a price of 10.11.  Would you like to BUY the shares from them?',\n",
       "  'ticker': 'CRZY',\n",
       "  'quantity': 72000.0,\n",
       "  'action': 'BUY',\n",
       "  'is_fixed_bid': True,\n",
       "  'price': 10.11}]"
      ]
     },
     "execution_count": 82,
     "metadata": {},
     "output_type": "execute_result"
    }
   ],
   "source": [
    "resp = s.get('http://localhost:9999/v1/tenders')\n",
    "tenderinfo = resp.json()\n",
    "tenderinfo"
   ]
  },
  {
   "cell_type": "markdown",
   "metadata": {},
   "source": [
    "### POST/tenders/{id}"
   ]
  },
  {
   "cell_type": "markdown",
   "metadata": {},
   "source": [
    "You can accept a tender order using the <code>tender_id</code> provided via the <code>GET/tenders</code> method. For example, if you have a tender order with <code>tender_id=1600</code>, you can use the following syntax to accept the tender. Note that <code>id</code> is a required parameter."
   ]
  },
  {
   "cell_type": "code",
   "execution_count": 81,
   "metadata": {},
   "outputs": [
    {
     "data": {
      "text/plain": [
       "{'success': True}"
      ]
     },
     "execution_count": 81,
     "metadata": {},
     "output_type": "execute_result"
    }
   ],
   "source": [
    "resp = s.post('http://localhost:9999/v1/tenders/1600')\n",
    "accepttender = resp.json()\n",
    "accepttender"
   ]
  },
  {
   "cell_type": "markdown",
   "metadata": {},
   "source": [
    "### DELETE/tenders/{id}"
   ]
  },
  {
   "cell_type": "markdown",
   "metadata": {},
   "source": [
    "Similarly, you can decline a tender order using the <code>DELETE/tenders/{id}</code> method. For example, if you have a tender order with <code>tender_id=2400</code>, you can use the following syntax to decline  the tender. Note that <code>id</code> is a required parameter."
   ]
  },
  {
   "cell_type": "code",
   "execution_count": 83,
   "metadata": {},
   "outputs": [
    {
     "data": {
      "text/plain": [
       "{'success': True}"
      ]
     },
     "execution_count": 83,
     "metadata": {},
     "output_type": "execute_result"
    }
   ],
   "source": [
    "resp = s.delete('http://localhost:9999/v1/tenders/2400')\n",
    "declinetender = resp.json()\n",
    "declinetender"
   ]
  },
  {
   "cell_type": "markdown",
   "metadata": {},
   "source": [
    "## Asset Management"
   ]
  },
  {
   "cell_type": "markdown",
   "metadata": {},
   "source": [
    "Using the RIT REST API, you can manage Assets available in RIT. For example, you can retrieve asset information and submit a signal to lease/unlease particular assets."
   ]
  },
  {
   "cell_type": "markdown",
   "metadata": {},
   "source": [
    "### GET/assets"
   ]
  },
  {
   "cell_type": "markdown",
   "metadata": {},
   "source": [
    "The <code>GET/assets</code> method allows you to pull a list of available assets in the case."
   ]
  },
  {
   "cell_type": "code",
   "execution_count": 85,
   "metadata": {},
   "outputs": [
    {
     "data": {
      "text/plain": [
       "[{'ticker': 'ETF-Creation',\n",
       "  'type': 'REFINERY',\n",
       "  'description': 'ETF Creation',\n",
       "  'total_quantity': 200,\n",
       "  'available_quantity': 200,\n",
       "  'lease_price': 0.0,\n",
       "  'convert_from': [{'ticker': 'CRZY', 'quantity': 5000.0},\n",
       "   {'ticker': 'TAME', 'quantity': 5000.0}],\n",
       "  'convert_to': [{'ticker': 'ETF', 'quantity': 5000.0}],\n",
       "  'containment': None,\n",
       "  'ticks_per_conversion': 2,\n",
       "  'ticks_per_lease': 300,\n",
       "  'is_available': True,\n",
       "  'start_period': 1,\n",
       "  'stop_period': 1},\n",
       " {'ticker': 'ETF-Redemption',\n",
       "  'type': 'REFINERY',\n",
       "  'description': 'ETF Redemption',\n",
       "  'total_quantity': 200,\n",
       "  'available_quantity': 200,\n",
       "  'lease_price': 0.0,\n",
       "  'convert_from': [{'ticker': 'ETF', 'quantity': 5000.0}],\n",
       "  'convert_to': [{'ticker': 'CRZY', 'quantity': 5000.0},\n",
       "   {'ticker': 'TAME', 'quantity': 5000.0}],\n",
       "  'containment': None,\n",
       "  'ticks_per_conversion': 2,\n",
       "  'ticks_per_lease': 300,\n",
       "  'is_available': True,\n",
       "  'start_period': 1,\n",
       "  'stop_period': 1},\n",
       " {'ticker': 'CL-STORAGE',\n",
       "  'type': 'CONTAINER',\n",
       "  'description': 'Storage for Crude Oil Spot in Cushing',\n",
       "  'total_quantity': 200,\n",
       "  'available_quantity': 200,\n",
       "  'lease_price': 500.0,\n",
       "  'convert_from': [],\n",
       "  'convert_to': [],\n",
       "  'containment': {'ticker': 'CL', 'quantity': 10.0},\n",
       "  'ticks_per_conversion': 0,\n",
       "  'ticks_per_lease': 300,\n",
       "  'is_available': True,\n",
       "  'start_period': 1,\n",
       "  'stop_period': 2},\n",
       " {'ticker': 'AK-STORAGE',\n",
       "  'type': 'CONTAINER',\n",
       "  'description': 'Storage for Crude Oil in Alaska',\n",
       "  'total_quantity': 200,\n",
       "  'available_quantity': 200,\n",
       "  'lease_price': 500.0,\n",
       "  'convert_from': [],\n",
       "  'convert_to': [],\n",
       "  'containment': {'ticker': 'CL-AK', 'quantity': 10.0},\n",
       "  'ticks_per_conversion': 0,\n",
       "  'ticks_per_lease': 300,\n",
       "  'is_available': True,\n",
       "  'start_period': 1,\n",
       "  'stop_period': 2},\n",
       " {'ticker': 'AK-CS-PIPE',\n",
       "  'type': 'PIPELINE',\n",
       "  'description': 'Pipeline from Alaska to Cushing',\n",
       "  'total_quantity': 200,\n",
       "  'available_quantity': 200,\n",
       "  'lease_price': 40000.0,\n",
       "  'convert_from': [{'ticker': 'CL-AK', 'quantity': 10.0}],\n",
       "  'convert_to': [{'ticker': 'CL', 'quantity': 10.0}],\n",
       "  'containment': {'ticker': 'CL-AK', 'quantity': 10.0},\n",
       "  'ticks_per_conversion': 10,\n",
       "  'ticks_per_lease': 300,\n",
       "  'is_available': True,\n",
       "  'start_period': 1,\n",
       "  'stop_period': 2},\n",
       " {'ticker': 'CL-REFINERY',\n",
       "  'type': 'REFINERY',\n",
       "  'description': 'Crude Oil Refinery (3:2:1)',\n",
       "  'total_quantity': 200,\n",
       "  'available_quantity': 200,\n",
       "  'lease_price': 30000.0,\n",
       "  'convert_from': [{'ticker': 'CL', 'quantity': 30.0}],\n",
       "  'convert_to': [{'ticker': 'HO', 'quantity': 10.0},\n",
       "   {'ticker': 'RB', 'quantity': 20.0}],\n",
       "  'containment': {'ticker': 'CL', 'quantity': 30.0},\n",
       "  'ticks_per_conversion': 10,\n",
       "  'ticks_per_lease': 300,\n",
       "  'is_available': True,\n",
       "  'start_period': 1,\n",
       "  'stop_period': 2}]"
      ]
     },
     "execution_count": 85,
     "metadata": {},
     "output_type": "execute_result"
    }
   ],
   "source": [
    "resp = s.get('http://localhost:9999/v1/assets')\n",
    "assetinfo = resp.json()\n",
    "assetinfo"
   ]
  },
  {
   "cell_type": "markdown",
   "metadata": {},
   "source": [
    "You can use an optinal <code>ticker</code> parameter to pull the information for a specific asset."
   ]
  },
  {
   "cell_type": "code",
   "execution_count": 86,
   "metadata": {},
   "outputs": [
    {
     "data": {
      "text/plain": [
       "[{'ticker': 'ETF-Creation',\n",
       "  'type': 'REFINERY',\n",
       "  'description': 'ETF Creation',\n",
       "  'total_quantity': 200,\n",
       "  'available_quantity': 200,\n",
       "  'lease_price': 0.0,\n",
       "  'convert_from': [{'ticker': 'CRZY', 'quantity': 5000.0},\n",
       "   {'ticker': 'TAME', 'quantity': 5000.0}],\n",
       "  'convert_to': [{'ticker': 'ETF', 'quantity': 5000.0}],\n",
       "  'containment': None,\n",
       "  'ticks_per_conversion': 2,\n",
       "  'ticks_per_lease': 300,\n",
       "  'is_available': True,\n",
       "  'start_period': 1,\n",
       "  'stop_period': 1}]"
      ]
     },
     "execution_count": 86,
     "metadata": {},
     "output_type": "execute_result"
    }
   ],
   "source": [
    "payload={'ticker': 'ETF-Creation'}\n",
    "resp = s.get('http://localhost:9999/v1/assets', params = payload)\n",
    "assetinfo = resp.json()\n",
    "assetinfo"
   ]
  },
  {
   "cell_type": "markdown",
   "metadata": {},
   "source": [
    "In the response, <code>total_quantity</code> include the number of available assets in the case whereas <code>available_quantity</code> means the number of currently available assets. <code>ticks_per_conversion</code> shows how long it takes to convert one to another (in case it's a converter-type asset such as a pipeline or a refinery). <code>ticks_per_lease</code> shows how long it takes for a single lease 'cycle' which means how often the lease price is charged for assets."
   ]
  },
  {
   "cell_type": "markdown",
   "metadata": {},
   "source": [
    "### GET/leases"
   ]
  },
  {
   "cell_type": "markdown",
   "metadata": {},
   "source": [
    "The <code>GET/leases</code> method allows you to only pull the information for assets that are currently in lease. This feature allows you to identify real-time information such as <code>next_lease_tick</code> which is when the lease price will be charged next time or <code>containment_usage</code> which shows the usage level for storage-type assets. Note that a new <code>id</code> is assigned whenever an asset is leased although it may be the same type.\n",
    "\n",
    "If you want to test out the <code>GET/leases</code> method, you may lease some assets in RIT so that the method can return the information for leased assets."
   ]
  },
  {
   "cell_type": "code",
   "execution_count": 116,
   "metadata": {},
   "outputs": [
    {
     "data": {
      "text/plain": [
       "[{'id': 1,\n",
       "  'ticker': 'CL-REFINERY',\n",
       "  'type': 'REFINERY',\n",
       "  'start_lease_period': 1,\n",
       "  'start_lease_tick': 1,\n",
       "  'next_lease_period': 2,\n",
       "  'next_lease_tick': 1,\n",
       "  'convert_from': [],\n",
       "  'convert_to': [],\n",
       "  'convert_finish_period': None,\n",
       "  'convert_finish_tick': None,\n",
       "  'containment_usage': None},\n",
       " {'id': 2,\n",
       "  'ticker': 'CL-STORAGE',\n",
       "  'type': 'CONTAINER',\n",
       "  'start_lease_period': 1,\n",
       "  'start_lease_tick': 5,\n",
       "  'next_lease_period': 2,\n",
       "  'next_lease_tick': 5,\n",
       "  'convert_from': [],\n",
       "  'convert_to': [],\n",
       "  'convert_finish_period': None,\n",
       "  'convert_finish_tick': None,\n",
       "  'containment_usage': 10},\n",
       " {'id': 3,\n",
       "  'ticker': 'CL-STORAGE',\n",
       "  'type': 'CONTAINER',\n",
       "  'start_lease_period': 1,\n",
       "  'start_lease_tick': 9,\n",
       "  'next_lease_period': 2,\n",
       "  'next_lease_tick': 9,\n",
       "  'convert_from': [],\n",
       "  'convert_to': [],\n",
       "  'convert_finish_period': None,\n",
       "  'convert_finish_tick': None,\n",
       "  'containment_usage': 10},\n",
       " {'id': 4,\n",
       "  'ticker': 'CL-STORAGE',\n",
       "  'type': 'CONTAINER',\n",
       "  'start_lease_period': 1,\n",
       "  'start_lease_tick': 9,\n",
       "  'next_lease_period': 2,\n",
       "  'next_lease_tick': 9,\n",
       "  'convert_from': [],\n",
       "  'convert_to': [],\n",
       "  'convert_finish_period': None,\n",
       "  'convert_finish_tick': None,\n",
       "  'containment_usage': 10},\n",
       " {'id': 5,\n",
       "  'ticker': 'CL-STORAGE',\n",
       "  'type': 'CONTAINER',\n",
       "  'start_lease_period': 1,\n",
       "  'start_lease_tick': 9,\n",
       "  'next_lease_period': 2,\n",
       "  'next_lease_tick': 9,\n",
       "  'convert_from': [],\n",
       "  'convert_to': [],\n",
       "  'convert_finish_period': None,\n",
       "  'convert_finish_tick': None,\n",
       "  'containment_usage': 10},\n",
       " {'id': 6,\n",
       "  'ticker': 'CL-STORAGE',\n",
       "  'type': 'CONTAINER',\n",
       "  'start_lease_period': 1,\n",
       "  'start_lease_tick': 9,\n",
       "  'next_lease_period': 2,\n",
       "  'next_lease_tick': 9,\n",
       "  'convert_from': [],\n",
       "  'convert_to': [],\n",
       "  'convert_finish_period': None,\n",
       "  'convert_finish_tick': None,\n",
       "  'containment_usage': 10},\n",
       " {'id': 7,\n",
       "  'ticker': 'CL-STORAGE',\n",
       "  'type': 'CONTAINER',\n",
       "  'start_lease_period': 1,\n",
       "  'start_lease_tick': 10,\n",
       "  'next_lease_period': 2,\n",
       "  'next_lease_tick': 10,\n",
       "  'convert_from': [],\n",
       "  'convert_to': [],\n",
       "  'convert_finish_period': None,\n",
       "  'convert_finish_tick': None,\n",
       "  'containment_usage': 0},\n",
       " {'id': 8,\n",
       "  'ticker': 'CL-STORAGE',\n",
       "  'type': 'CONTAINER',\n",
       "  'start_lease_period': 1,\n",
       "  'start_lease_tick': 10,\n",
       "  'next_lease_period': 2,\n",
       "  'next_lease_tick': 10,\n",
       "  'convert_from': [],\n",
       "  'convert_to': [],\n",
       "  'convert_finish_period': None,\n",
       "  'convert_finish_tick': None,\n",
       "  'containment_usage': 0}]"
      ]
     },
     "execution_count": 116,
     "metadata": {},
     "output_type": "execute_result"
    }
   ],
   "source": [
    "resp = s.get('http://localhost:9999/v1/leases')\n",
    "leasedassets = resp.json()\n",
    "leasedassets"
   ]
  },
  {
   "cell_type": "markdown",
   "metadata": {},
   "source": [
    "### GET/leases/{id}"
   ]
  },
  {
   "cell_type": "markdown",
   "metadata": {},
   "source": [
    "If you would like to pull the leased asset information for a particular asset, you can use the <code>GET/leases/{id}</code> method as shown below."
   ]
  },
  {
   "cell_type": "code",
   "execution_count": 95,
   "metadata": {},
   "outputs": [
    {
     "data": {
      "text/plain": [
       "{'id': 2,\n",
       " 'ticker': 'CL-STORAGE',\n",
       " 'type': 'CONTAINER',\n",
       " 'start_lease_period': 1,\n",
       " 'start_lease_tick': 10,\n",
       " 'next_lease_period': 2,\n",
       " 'next_lease_tick': 10,\n",
       " 'convert_from': [],\n",
       " 'convert_to': [],\n",
       " 'convert_finish_period': None,\n",
       " 'convert_finish_tick': None,\n",
       " 'containment_usage': 0}"
      ]
     },
     "execution_count": 95,
     "metadata": {},
     "output_type": "execute_result"
    }
   ],
   "source": [
    "resp = s.get('http://localhost:9999/v1/leases/2')\n",
    "leasedassets = resp.json()\n",
    "leasedassets"
   ]
  },
  {
   "cell_type": "markdown",
   "metadata": {},
   "source": [
    "### POST/leases"
   ]
  },
  {
   "cell_type": "markdown",
   "metadata": {},
   "source": [
    "Some assets are also available to be leased via REST API. The <code>POST/leases</code> method will allow you to lease <code>PIPELINE</code>, <code>SHIP</code>, and <code>PRODUCER</code> type of assets that are available for \"Lease & Use\". Please also note that, in the current RIT cases, only <code>PIPELINE</code> type asset is available for the <code>POST/leases</code> method."
   ]
  },
  {
   "cell_type": "code",
   "execution_count": 114,
   "metadata": {},
   "outputs": [
    {
     "data": {
      "text/plain": [
       "{'id': 15,\n",
       " 'ticker': 'AK-CS-PIPE',\n",
       " 'type': 'PIPELINE',\n",
       " 'start_lease_period': 1,\n",
       " 'start_lease_tick': 283,\n",
       " 'next_lease_period': None,\n",
       " 'next_lease_tick': None,\n",
       " 'convert_from': [{'ticker': 'CL-AK', 'quantity': 5.0}],\n",
       " 'convert_to': [{'ticker': 'CL', 'quantity': 5.0}],\n",
       " 'convert_finish_period': 1,\n",
       " 'convert_finish_tick': 293,\n",
       " 'containment_usage': None}"
      ]
     },
     "execution_count": 114,
     "metadata": {},
     "output_type": "execute_result"
    }
   ],
   "source": [
    "payload={'ticker': 'AK-CS-PIPE', 'from1': 'CL-AK', 'quantity1': 5}\n",
    "resp = s.post('http://localhost:9999/v1/leases', params = payload)\n",
    "leaseassets = resp.json()\n",
    "leaseassets"
   ]
  },
  {
   "cell_type": "markdown",
   "metadata": {},
   "source": [
    "In case an asset requires multiple inputs (e.g. securities and quantities) for lease, you can continue to use <code>from</code> and <code>quantity</code> in the <code>params</code> keyword arguement sequentially (i.e. <code>from2</code>, <code>quantity2</code>, <code>from3</code>, <code>quantity3</code>, ...)."
   ]
  },
  {
   "cell_type": "markdown",
   "metadata": {},
   "source": [
    "### POST/leases/{id}"
   ]
  },
  {
   "cell_type": "markdown",
   "metadata": {},
   "source": [
    "The <code>POST/leases/{id}</code> method allows you to use an asset that is already leased. For example, if you have a refinery that is already leased, you can use the <code>POST/leases/{id}</code> method to use the asset."
   ]
  },
  {
   "cell_type": "code",
   "execution_count": 117,
   "metadata": {},
   "outputs": [
    {
     "data": {
      "text/plain": [
       "{'id': 1,\n",
       " 'ticker': 'CL-REFINERY',\n",
       " 'type': 'REFINERY',\n",
       " 'start_lease_period': 1,\n",
       " 'start_lease_tick': 1,\n",
       " 'next_lease_period': 2,\n",
       " 'next_lease_tick': 1,\n",
       " 'convert_from': [{'ticker': 'CL', 'quantity': 30.0}],\n",
       " 'convert_to': [{'ticker': 'HO', 'quantity': 10.0},\n",
       "  {'ticker': 'RB', 'quantity': 20.0}],\n",
       " 'convert_finish_period': 1,\n",
       " 'convert_finish_tick': 36,\n",
       " 'containment_usage': None}"
      ]
     },
     "execution_count": 117,
     "metadata": {},
     "output_type": "execute_result"
    }
   ],
   "source": [
    "payload={'from1': 'CL', 'quantity1': 30}\n",
    "resp = s.post('http://localhost:9999/v1/leases/1', params = payload)\n",
    "leaseassets = resp.json()\n",
    "leaseassets"
   ]
  },
  {
   "cell_type": "markdown",
   "metadata": {},
   "source": [
    "### DELETE/leases/{id}"
   ]
  },
  {
   "cell_type": "markdown",
   "metadata": {},
   "source": [
    "You can also end lease for any leased assets using the <code>DELETE/leases/{id}</code> method. This method may be helpful if you want to stop paying a lease for assets that were leased but are not used anymore."
   ]
  },
  {
   "cell_type": "code",
   "execution_count": 118,
   "metadata": {},
   "outputs": [
    {
     "data": {
      "text/plain": [
       "{'success': True}"
      ]
     },
     "execution_count": 118,
     "metadata": {},
     "output_type": "execute_result"
    }
   ],
   "source": [
    "resp = s.delete('http://localhost:9999/v1/leases/8')\n",
    "endlease = resp.json()\n",
    "endlease"
   ]
  }
 ],
 "metadata": {
  "kernelspec": {
   "display_name": "Python 3",
   "language": "python",
   "name": "python3"
  },
  "language_info": {
   "codemirror_mode": {
    "name": "ipython",
    "version": 3
   },
   "file_extension": ".py",
   "mimetype": "text/x-python",
   "name": "python",
   "nbconvert_exporter": "python",
   "pygments_lexer": "ipython3",
   "version": "3.7.6"
  }
 },
 "nbformat": 4,
 "nbformat_minor": 4
}
